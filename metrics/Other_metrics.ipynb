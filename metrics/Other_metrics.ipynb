{
  "nbformat": 4,
  "nbformat_minor": 0,
  "metadata": {
    "colab": {
      "name": "Other_metrics.ipynb",
      "provenance": [],
      "collapsed_sections": []
    },
    "kernelspec": {
      "name": "python3",
      "display_name": "Python 3"
    },
    "language_info": {
      "name": "python"
    },
    "accelerator": "GPU"
  },
  "cells": [
    {
      "cell_type": "code",
      "metadata": {
        "id": "WvFTXdGieh1H"
      },
      "source": [
        "with open(\"furniture_train.txt\", \"r\") as file_train: \n",
        "    lines_train = file_train.readlines()\n",
        "\n",
        "with open(\"model_output_furniture.txt\", \"r\") as file_output: \n",
        "    lines_output = file_output.readlines()\n",
        "\n",
        "for sentence_to_check in lines_output:\n",
        "  if sentence_to_check in lines_train:\n",
        "    print('Found an identical sentence : ')\n",
        "    print(sentence_to_check)"
      ],
      "execution_count": null,
      "outputs": []
    },
    {
      "cell_type": "code",
      "metadata": {
        "id": "vWesrYJSrVbl"
      },
      "source": [
        "with open(\"1.txt\", \"r\") as file1: \n",
        "    lines1 = file1.readlines()\n",
        "\n",
        "with open(\"10.txt\", \"r\") as file3: \n",
        "    lines3 = file3.readlines()"
      ],
      "execution_count": null,
      "outputs": []
    },
    {
      "cell_type": "code",
      "metadata": {
        "colab": {
          "base_uri": "https://localhost:8080/"
        },
        "id": "FN1d14DOpR_T",
        "outputId": "18932f1d-ee16-4a91-ce82-b4bd50e36b78"
      },
      "source": [
        "sum = 0\n",
        "num_lines = len(lines3)\n",
        "for line in lines3:\n",
        "  sum = sum + len(line.split())\n",
        "avg_len = sum/num_lines\n",
        "print(avg_len)"
      ],
      "execution_count": null,
      "outputs": [
        {
          "output_type": "stream",
          "text": [
            "10.301075268817204\n"
          ],
          "name": "stdout"
        }
      ]
    }
  ]
}