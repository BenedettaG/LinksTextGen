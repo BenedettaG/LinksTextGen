{
  "nbformat": 4,
  "nbformat_minor": 0,
  "metadata": {
    "colab": {
      "name": "ctrlBLEU.ipynb",
      "provenance": [],
      "collapsed_sections": []
    },
    "kernelspec": {
      "name": "python3",
      "display_name": "Python 3"
    },
    "language_info": {
      "name": "python"
    },
    "accelerator": "GPU"
  },
  "cells": [
    {
      "cell_type": "code",
      "metadata": {
        "id": "XTz-ymDxSy0r"
      },
      "source": [
        "!git clone https://github.com/geek-ai/Texygen.git\n",
        "!pip install -r /content/Texygen/requirements.txt"
      ],
      "execution_count": null,
      "outputs": []
    },
    {
      "cell_type": "code",
      "metadata": {
        "id": "5x18YNuLScti",
        "colab": {
          "base_uri": "https://localhost:8080/"
        },
        "outputId": "8fe4afe9-9abf-413f-ad05-f2477fcc5531"
      },
      "source": [
        "import nltk\n",
        "nltk.download('punkt')\n",
        "nltk.download('averaged_perceptron_tagger')\n",
        "\n",
        "%cd /content/Texygen/\n",
        "from utils.metrics.Bleu import Bleu\n",
        "from utils.metrics.SelfBleu import SelfBleu\n",
        "import datetime"
      ],
      "execution_count": null,
      "outputs": [
        {
          "output_type": "stream",
          "text": [
            "[nltk_data] Downloading package punkt to /root/nltk_data...\n",
            "[nltk_data]   Unzipping tokenizers/punkt.zip.\n",
            "[nltk_data] Downloading package averaged_perceptron_tagger to\n",
            "[nltk_data]     /root/nltk_data...\n",
            "[nltk_data]   Unzipping taggers/averaged_perceptron_tagger.zip.\n",
            "/content/Texygen\n"
          ],
          "name": "stdout"
        }
      ]
    },
    {
      "cell_type": "code",
      "metadata": {
        "id": "_x_Av610TiyR"
      },
      "source": [
        "class ctrlBleu : \n",
        "  def __init__(self, generated_file_path='', reference_file_path='', gram = 3):\n",
        "    self.generated_file_path = generated_file_path\n",
        "    self.reference_file_path = reference_file_path\n",
        "    self.gram = gram\n",
        "\n",
        "\n",
        "  def getBleuScore(self):\n",
        "    print(self.reference_file_path)\n",
        "    BleuScore = Bleu (self.generated_file_path, self.reference_file_path,self.gram)\n",
        "    #print(\"Bleu score with gram = %d is: %f\" %(self.gram, BleuScore.get_score(is_fast=False)))\n",
        "    return BleuScore.get_score(is_fast=False)\n",
        "\n",
        "  def getSelfBleuScore(self):\n",
        "    print(self.generated_file_path)\n",
        "    SelfBleuScore = SelfBleu(self.generated_file_path, self.gram)\n",
        "    #print(\"Self-Bleu score with gram = %d is: %f\" %(self.gram, SelfBleuScore.get_score(is_fast=False)))\n",
        "    return SelfBleuScore.get_score(is_fast=False)\n",
        "\n",
        "  def getPosBleuScore (self): \n",
        "    generated_file = open(self.generated_file_path, 'r')\n",
        "    generated_pos = open(\"/content/generated_pos.txt\", 'w')\n",
        "    reference_pos = open('/content/reference_pos.txt', 'w')\n",
        "    reference_file = open(self.reference_file_path, 'r')\n",
        "\n",
        "    for line in generated_file:\n",
        "      generated_tokenize = nltk.word_tokenize(line)\n",
        "      generated = nltk.pos_tag(generated_tokenize)      \n",
        "      for elem in generated : \n",
        "          generated_pos.write(elem[1] + \" \")\n",
        "      generated_pos.write(\"\\n\")\n",
        "    generated_pos.close()\n",
        "\n",
        "    \n",
        "    for line in reference_file: \n",
        "      reference_tokenize = nltk.word_tokenize(line)\n",
        "      reference = nltk.pos_tag(reference_tokenize)\n",
        "      for elem in reference : \n",
        "          reference_pos.write(elem[1] + \" \")\n",
        "      reference_pos.write(\"\\n\")\n",
        "    reference_pos.close()  \n",
        "\n",
        "    PosBleu = Bleu (\"/content/generated_pos.txt\", \"/content/reference_pos.txt\",self.gram)\n",
        "    #print(\"PosBleu score with gram = %d is: %f\" %(self.gram, PosBleu.get_score(is_fast=False)))\n",
        "    return PosBleu.get_score(is_fast=False)\n",
        "\n",
        "\n",
        "  def get_metrics(self): \n",
        "    BS = self.getBleuScore()\n",
        "    SBS = self.getSelfBleuScore()\n",
        "    PBS = self.getPosBleuScore()\n",
        "    print(\"Bleu score with gram = %d is: %f\" %(self.gram, BS))\n",
        "    print(\"SelfBleu score with gram = %d is: %f\" %(self.gram, SBS))\n",
        "    print(\"PosBleu score with gram = %d is: %f\" %(self.gram, PBS))\n",
        "\n",
        "    ct = datetime.datetime.now()\n",
        "    date_time = ct.strftime(\"%m/%d/%Y, %H:%M:%S\")\n",
        "    new_line = \"---\"+date_time+\"---\\n\"+\"   gram: \"+str(self.gram)+\", references from: \"+self.reference_file_path + \":\\n   BS: \"+str(BS)+\"\\n   SBS: \"+str(SBS)+\"\\n\"+\"   PBS: \"+str(PBS)+\"\\n\\n\" \n",
        "    \n",
        "    metrics = open (\"/content/metrics_evaluations.txt\", 'a')\n",
        "    metrics.write(new_line)\n",
        "    metrics.close()\n",
        "\n",
        "\n",
        "\n",
        "      \n",
        "  \n",
        "\n",
        "\n",
        "\n"
      ],
      "execution_count": null,
      "outputs": []
    }
  ]
}