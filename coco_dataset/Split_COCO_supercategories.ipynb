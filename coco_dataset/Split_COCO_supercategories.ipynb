{
  "nbformat": 4,
  "nbformat_minor": 0,
  "metadata": {
    "colab": {
      "name": "Split_COCO_supercategories.ipynb",
      "provenance": []
    },
    "kernelspec": {
      "name": "python3",
      "display_name": "Python 3"
    },
    "language_info": {
      "name": "python"
    },
    "accelerator": "GPU"
  },
  "cells": [
    {
      "cell_type": "code",
      "metadata": {
        "id": "nkKDOxwPQnDy"
      },
      "source": [
        "from pycocotools.coco import COCO"
      ],
      "execution_count": null,
      "outputs": []
    },
    {
      "cell_type": "code",
      "metadata": {
        "id": "VqWZ6x5oSrAF"
      },
      "source": [
        "captions_ds = \"/content/captions_train2017.json\"\n",
        "coco_captions = COCO(captions_ds)\n",
        "\n",
        "instances_ds = \"/content/instances_train2017.json\"\n",
        "coco_instances = COCO(instances_ds)"
      ],
      "execution_count": null,
      "outputs": []
    },
    {
      "cell_type": "code",
      "metadata": {
        "id": "IgHclrDpXKyj"
      },
      "source": [
        "categories = coco_instances.loadCats(coco_instances.getCatIds()) # Prendo tutte le categorie\n",
        "categories_ids = [cat[\"id\"] for cat in categories]\n",
        "categories_names = [cat[\"name\"] for cat in categories]\n",
        "print(categories_ids)\n",
        "print(len(categories_ids))\n",
        "\n",
        "print(categories_names)\n",
        "print(len(categories_names))\n",
        "\n",
        "supercategories_names = [cat[\"supercategory\"] for cat in categories]\n",
        "print(supercategories_names)\n",
        "print(len(supercategories_names))\n",
        "\n",
        "print(set(supercategories_names))"
      ],
      "execution_count": null,
      "outputs": []
    },
    {
      "cell_type": "code",
      "metadata": {
        "id": "MjkaU6lPXbaP"
      },
      "source": [
        "!mkdir \"./supercategories\""
      ],
      "execution_count": null,
      "outputs": []
    },
    {
      "cell_type": "code",
      "metadata": {
        "id": "gihlHzomXc_J"
      },
      "source": [
        "for sup in set(supercategories_names):\n",
        "  f = open(\"./supercategories/\" +sup + \".txt\",\"w+\")\n",
        "  f.close()"
      ],
      "execution_count": null,
      "outputs": []
    },
    {
      "cell_type": "code",
      "metadata": {
        "id": "B0FxDaraXkfn"
      },
      "source": [
        "for cat_id, cat_name, supercat_name in zip(categories_ids, categories_names, supercategories_names) :\n",
        "  print(\"CATEGORIA : \")\n",
        "  print(cat_id)\n",
        "  print(cat_name)\n",
        "  print(\"SUPER CATEGORIA : \")\n",
        "  print(supercat_name)\n",
        "  print(\"*******\")\n",
        "  images = coco_instances.getImgIds(catIds = cat_id)\n",
        "\n",
        "  for img in images : \n",
        "      annIds = coco_captions.getAnnIds(imgIds=img)\n",
        "      #print(annIds)\n",
        "      anns = coco_captions.loadAnns(annIds)\n",
        "      f = open(\"./supercategories/\" +supercat_name + \".txt\",\"a\")\n",
        "      f.write(anns[2]['caption'] +\"\\n\")\n",
        "      f.close()"
      ],
      "execution_count": null,
      "outputs": []
    }
  ]
}
